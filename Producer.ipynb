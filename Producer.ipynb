{
 "cells": [
  {
   "cell_type": "code",
   "execution_count": 3,
   "metadata": {
    "colab": {
     "base_uri": "https://localhost:8080/"
    },
    "id": "DWeRO4SdEVW9",
    "outputId": "05fa6785-d583-443f-eca8-1c09abd8849e"
   },
   "outputs": [
    {
     "name": "stdout",
     "output_type": "stream",
     "text": [
      "Collecting confluent_kafka\n",
      "  Using cached confluent-kafka-1.7.0.tar.gz (103 kB)\n",
      "  Preparing metadata (setup.py) ... \u001b[?25ldone\n",
      "\u001b[?25hBuilding wheels for collected packages: confluent-kafka\n",
      "  Building wheel for confluent-kafka (setup.py) ... \u001b[?25ldone\n",
      "\u001b[?25h  Created wheel for confluent-kafka: filename=confluent_kafka-1.7.0-cp39-cp39-linux_aarch64.whl size=250002 sha256=b7d8db52ebb010550f604c2b3f31d5a4f594cd182fae09e5860d7dd5f29bca29\n",
      "  Stored in directory: /home/thenielfarias/.cache/pip/wheels/f8/e7/08/0a9a21154a5dbab34c8bc2443eb0f11d55879d0c7e3e945068\n",
      "Successfully built confluent-kafka\n",
      "Installing collected packages: confluent-kafka\n",
      "Successfully installed confluent-kafka-1.7.0\n"
     ]
    }
   ],
   "source": [
    "!pip install confluent_kafka"
   ]
  },
  {
   "cell_type": "code",
   "execution_count": 7,
   "metadata": {
    "colab": {
     "base_uri": "https://localhost:8080/"
    },
    "id": "P_X71RFmEeez",
    "outputId": "19bd61e6-04d2-4d08-e058-17f673ae3d6a"
   },
   "outputs": [
    {
     "name": "stdout",
     "output_type": "stream",
     "text": [
      "init\n",
      "% Waiting for 1 deliveries\n",
      "\n"
     ]
    },
    {
     "name": "stderr",
     "output_type": "stream",
     "text": [
      "%4|1635889323.054|CONFWARN|rdkafka#producer-4| [thrd:app]: Configuration property session.timeout.ms is a consumer property and will be ignored by this producer instance\n",
      "%4|1635889323.055|CONFWARN|rdkafka#producer-4| [thrd:app]: Configuration property auto.offset.reset is a consumer property and will be ignored by this producer instance\n"
     ]
    },
    {
     "name": "stdout",
     "output_type": "stream",
     "text": [
      "%% Message delivered to %s [%d]\n",
      " ('dq0utqfp-default', 3)\n"
     ]
    },
    {
     "name": "stderr",
     "output_type": "stream",
     "text": [
      "%3|1635889325.668|FAIL|rdkafka#producer-4| [thrd:sasl_ssl://glider-02.srvs.cloudkafka.com:9094/bootstrap]: sasl_ssl://glider-02.srvs.cloudkafka.com:9094/1: SASL authentication error: SaslAuthenticateRequest failed: Local: Broker handle destroyed (after 0ms in state DOWN)\n"
     ]
    }
   ],
   "source": [
    "import sys\n",
    "import os\n",
    "\n",
    "from confluent_kafka import Producer\n",
    "\n",
    "def delivery_callback(err, msg):\n",
    "    if err:\n",
    "        print('%% Message failed delivery: %s\\n', err)\n",
    "    else:\n",
    "        print('%% Message delivered to %s [%d]\\n',\n",
    "                          (msg.topic(), msg.partition()))\n",
    "\n",
    "def createTopic():\n",
    "    print(\"init\");\n",
    "    topic = 'dq0utqfp-default'\n",
    "\n",
    "    conf = {\n",
    "        'bootstrap.servers': 'glider-01.srvs.cloudkafka.com:9094,glider-02.srvs.cloudkafka.com:9094,glider-03.srvs.cloudkafka.com:9094',\n",
    "        'session.timeout.ms': 6000,\n",
    "        'default.topic.config': {'auto.offset.reset': 'smallest'},\n",
    "        'security.protocol': 'SASL_SSL',\n",
    "\t'sasl.mechanisms': 'SCRAM-SHA-256',\n",
    "        'sasl.username': 'dq0utqfp',\n",
    "        'sasl.password': 'qjNF0zq-VlOi4OyTgkoIrqGcZtBLT17u'\n",
    "    }\n",
    "\n",
    "    p = Producer(conf)\n",
    "\n",
    "    try:\n",
    "        p.produce(topic, \"new message 2\", callback=delivery_callback)\n",
    "    except BufferError as e:\n",
    "        print('%% Local producer queue is full (%d messages awaiting delivery): try again\\n',\n",
    "                          len(p))\n",
    "    p.poll(0)\n",
    "\n",
    "    print('%% Waiting for %d deliveries\\n' % len(p))\n",
    "    p.flush()\n",
    "\n",
    "createTopic();"
   ]
  },
  {
   "cell_type": "code",
   "execution_count": null,
   "metadata": {},
   "outputs": [],
   "source": []
  }
 ],
 "metadata": {
  "colab": {
   "name": "Producer.ipynb",
   "provenance": []
  },
  "kernelspec": {
   "display_name": "Python 3 (ipykernel)",
   "language": "python",
   "name": "python3"
  },
  "language_info": {
   "codemirror_mode": {
    "name": "ipython",
    "version": 3
   },
   "file_extension": ".py",
   "mimetype": "text/x-python",
   "name": "python",
   "nbconvert_exporter": "python",
   "pygments_lexer": "ipython3",
   "version": "3.9.5"
  }
 },
 "nbformat": 4,
 "nbformat_minor": 4
}
