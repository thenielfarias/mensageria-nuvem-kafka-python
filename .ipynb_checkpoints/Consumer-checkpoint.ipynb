{
 "cells": [
  {
   "cell_type": "code",
   "execution_count": 4,
   "metadata": {
    "colab": {
     "base_uri": "https://localhost:8080/"
    },
    "id": "axGfpy9OH595",
    "outputId": "bb81412c-6557-4b77-bb38-ec2fe9fa278a"
   },
   "outputs": [
    {
     "name": "stdout",
     "output_type": "stream",
     "text": [
      "Requirement already satisfied: confluent_kafka in /home/thenielfarias/.local/share/virtualenvs/thenielfarias-orcZKmpx/lib/python3.9/site-packages (1.7.0)\n"
     ]
    }
   ],
   "source": [
    "!pip install confluent_kafka"
   ]
  },
  {
   "cell_type": "code",
   "execution_count": null,
   "metadata": {
    "colab": {
     "base_uri": "https://localhost:8080/"
    },
    "id": "aT7mYbrQISIW",
    "outputId": "fc8ba4d8-7891-45e3-bb68-590e6c173a70"
   },
   "outputs": [
    {
     "name": "stderr",
     "output_type": "stream",
     "text": [
      "% dq0utqfp-default [2] at offset 1 with key None:\n"
     ]
    },
    {
     "name": "stdout",
     "output_type": "stream",
     "text": [
      "b'new message'\n"
     ]
    },
    {
     "name": "stderr",
     "output_type": "stream",
     "text": [
      "% dq0utqfp-default [3] at offset 1 with key None:\n"
     ]
    },
    {
     "name": "stdout",
     "output_type": "stream",
     "text": [
      "b'new message 2'\n"
     ]
    }
   ],
   "source": [
    "import sys\n",
    "import os\n",
    "\n",
    "from confluent_kafka import Consumer, KafkaException, KafkaError\n",
    "\n",
    "def createConsumer():\n",
    "\n",
    "    topics = ['dq0utqfp-default']\n",
    "\n",
    "    conf = {\n",
    "        'bootstrap.servers': 'glider-01.srvs.cloudkafka.com:9094,glider-02.srvs.cloudkafka.com:9094,glider-03.srvs.cloudkafka.com:9094',\n",
    "        'group.id': \"%s-consumer\" % 'dq0utqfp',\n",
    "        'session.timeout.ms': 6000,\n",
    "        'default.topic.config': {'auto.offset.reset': 'smallest'},\n",
    "        'security.protocol': 'SASL_SSL',\n",
    "\t'sasl.mechanisms': 'SCRAM-SHA-256',\n",
    "        'sasl.username': 'dq0utqfp',\n",
    "        'sasl.password': 'qjNF0zq-VlOi4OyTgkoIrqGcZtBLT17u'\n",
    "    }\n",
    "\n",
    "    c = Consumer(conf)\n",
    "    c.subscribe(topics)\n",
    "    try:\n",
    "        while True:\n",
    "            msg = c.poll(timeout=1.0)\n",
    "            if msg is None:\n",
    "                continue\n",
    "            if msg.error():\n",
    "                if msg.error().code() == KafkaError._PARTITION_EOF:\n",
    "                    sys.stderr.write('%% %s [%d] reached end at offset %d\\n' %\n",
    "                                     (msg.topic(), msg.partition(), msg.offset()))\n",
    "                elif msg.error():\n",
    "                    raise KafkaException(msg.error())\n",
    "            else:\n",
    "                sys.stderr.write('%% %s [%d] at offset %d with key %s:\\n' %\n",
    "                                 (msg.topic(), msg.partition(), msg.offset(),\n",
    "                                  str(msg.key())))\n",
    "                print(msg.value())\n",
    "\n",
    "    except KeyboardInterrupt:\n",
    "        sys.stderr.write('%% Aborted by user\\n')\n",
    "\n",
    "    c.close()\n",
    "\n",
    "createConsumer()"
   ]
  },
  {
   "cell_type": "code",
   "execution_count": null,
   "metadata": {},
   "outputs": [],
   "source": []
  }
 ],
 "metadata": {
  "colab": {
   "name": "Consumer.ipynb",
   "provenance": []
  },
  "kernelspec": {
   "display_name": "Python 3 (ipykernel)",
   "language": "python",
   "name": "python3"
  },
  "language_info": {
   "codemirror_mode": {
    "name": "ipython",
    "version": 3
   },
   "file_extension": ".py",
   "mimetype": "text/x-python",
   "name": "python",
   "nbconvert_exporter": "python",
   "pygments_lexer": "ipython3",
   "version": "3.9.5"
  }
 },
 "nbformat": 4,
 "nbformat_minor": 4
}
